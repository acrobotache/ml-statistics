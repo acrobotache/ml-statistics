{
 "cells": [
  {
   "cell_type": "markdown",
   "id": "7673a704-cfd6-45f0-8c3b-d14876c7292f",
   "metadata": {},
   "source": [
    "# Measures of Dispersion\n",
    "\n",
    "In statistics, the measures of dispersion help to interpret the variability of data i.e. to know how much homogenous or heterogeneous the data is. In simple terms, it shows how squeezed or scattered the variable is.\n",
    "\n",
    "## Variance\n",
    "The Variance is defined as the average of the squared differences from the Mean and the symbol is σ2. It is also called mean square deviation\n",
    "The variance is a numerical value used to indicate how widely individuals in a group vary. If individual observations vary greatly from the group mean, the variance is big; and vice versa.\n",
    "\n",
    "#### Significance of Variance\n",
    "1. The variance is a numerical value used to indicate how widely individuals in a group vary. \n",
    "2. Variance is a measurement of the spread between numbers in a data set.\n",
    "3. Investors use variance to see how much risk an investment carries and whether it will be profitable.\n",
    "4. Variance is also used to compare the relative performance of each asset in a portfolio to achieve the best asset allocation.\n",
    "5. A large variance indicates that numbers in the set are far from the mean and far from each other. A small variance, on the other hand, indicates the opposite. A variance value of zero, though, indicates that all values within a set of numbers are identical. \n",
    "\n",
    "#### Pitfalls of Variance\n",
    "1. It gives added weight to outliers. These are the numbers far from the mean. Squaring these numbers can skew the data.\n",
    "2. It does not have the same unit of measure as the original data. For example, original data containing lengths measured in feet has a variance measured in square feet.\n",
    "3. It is not easily interpreted. \n",
    "\n",
    "## Standard Deviation: \n",
    "The square root of the variance is known as the standard deviation i.e. S.D. = √σ.\n",
    "\n",
    "![title](images/std_dev.jpg)\n",
    "\n",
    "#### Significance of Standard Deviation\n",
    "1. It measures the deviation from the mean, which is a very important statistic\n",
    "2. The square of small numbers is smaller (Contraction effect) and large numbers larger (Expanding effect). So it makes you ignore small deviations and see the larger one clearly!\n",
    "3. The standard deviation has the same units of measure as the original data. If you're talking about inches, the standard deviation will be in inches.\n",
    "4. The standard deviation is affected by outliers (extremely low or extremely high numbers in the data set). That’s because the standard deviation is based on the distance from the mean. And remember, the mean is also affected by outliers.\n",
    "5. Low standard deviation means data are clustered around the mean, and high standard deviation indicates data are more spread out.\n",
    "6. A standard deviation close to zero indicates that data points are close to the mean, whereas a high or low standard deviation indicates data points are respectively above or below the mean. "
   ]
  },
  {
   "cell_type": "markdown",
   "id": "4e89f14b-fbcb-4761-8d52-b75adad09be1",
   "metadata": {},
   "source": [
    "## Hackerrank Problem Statement and Solution (Practice)\n",
    "[Problem_Statement](https://www.hackerrank.com/challenges/s10-standard-deviation/problem?isFullScreen=true)\n",
    "\n",
    "Solution"
   ]
  },
  {
   "cell_type": "code",
   "execution_count": null,
   "id": "9bf5f76c-6c85-43e3-88b4-ac6e491fb867",
   "metadata": {},
   "outputs": [],
   "source": [
    "#!/bin/python3\n",
    "\n",
    "import math\n",
    "import os\n",
    "import random\n",
    "import re\n",
    "import sys\n",
    "\n",
    "#\n",
    "# Complete the 'stdDev' function below.\n",
    "#\n",
    "# The function accepts INTEGER_ARRAY arr as parameter.\n",
    "#\n",
    "\n",
    "def stdDev(arr, n):\n",
    "    # Print your answers to 1 decimal place within this function\n",
    "    mean = sum(arr)/n\n",
    "    variance = 0\n",
    "    for i in arr:\n",
    "        variance += abs(i-mean)**2\n",
    "    print(\"{:.1f}\".format(math.sqrt(variance/n)))\n",
    "    \n",
    "if __name__ == '__main__':\n",
    "    n = int(input().strip())\n",
    "\n",
    "    vals = list(map(int, input().rstrip().split()))\n",
    "\n",
    "    stdDev(vals, n)"
   ]
  }
 ],
 "metadata": {
  "kernelspec": {
   "display_name": "Python 3",
   "language": "python",
   "name": "python3"
  },
  "language_info": {
   "codemirror_mode": {
    "name": "ipython",
    "version": 3
   },
   "file_extension": ".py",
   "mimetype": "text/x-python",
   "name": "python",
   "nbconvert_exporter": "python",
   "pygments_lexer": "ipython3",
   "version": "3.6.4"
  }
 },
 "nbformat": 4,
 "nbformat_minor": 5
}
