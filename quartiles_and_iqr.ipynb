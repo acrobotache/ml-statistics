{
 "cells": [
  {
   "cell_type": "markdown",
   "id": "7d4c5d10-5dcf-44ca-89f7-5b8b0ab3d318",
   "metadata": {},
   "source": [
    "# Quartile\n",
    "\n",
    "The quartiles of an ordered data set are the 3 points that split the data set into 4 equal groups. The quartiles are defined as follows:\n",
    "\n",
    "- Q1: The first quartile is the middle number between the smallest number in a data set and its median.(25th Percentile)\n",
    "- Q2: The second quartile is the median (50th percentile) of the data set.\n",
    "- Q3: The third quartile is the middle number between a data set's median and its largest number.(75th Percentile of the data)\n",
    "\n",
    "# Inter-Quartile Range (IQR)\n",
    "IQR is the range between the first and the third quartiles namely Q1 and Q3: \n",
    "IQR = Q3 – Q1. \n",
    "The data points which fall below Q1 – 1.5 IQR or above Q3 + 1.5 IQR are outliers."
   ]
  },
  {
   "cell_type": "code",
   "execution_count": 1,
   "id": "06c4251e-500a-4b96-8750-0d649aaddedb",
   "metadata": {},
   "outputs": [],
   "source": [
    "import numpy as np \n",
    "import seaborn as sns\n",
    "import warnings\n",
    "warnings.simplefilter(action='ignore', category=FutureWarning)"
   ]
  },
  {
   "cell_type": "code",
   "execution_count": 2,
   "id": "7a393b77-5885-41b8-bc03-ff470ca15dc0",
   "metadata": {},
   "outputs": [
    {
     "data": {
      "text/plain": [
       "array([ 1,  2,  3,  4,  5,  6, 50])"
      ]
     },
     "execution_count": 2,
     "metadata": {},
     "output_type": "execute_result"
    }
   ],
   "source": [
    "data = [6, 2, 3, 4, 5, 1, 50]\n",
    "sort_data = np.sort(data)\n",
    "sort_data"
   ]
  },
  {
   "cell_type": "code",
   "execution_count": 3,
   "id": "e12a42fa-f1aa-4892-b970-68ca49f599ff",
   "metadata": {},
   "outputs": [
    {
     "name": "stdout",
     "output_type": "stream",
     "text": [
      "Q1 25 percentile of the given data is,  2.5\n",
      "Q1 50 percentile of the given data is,  4.0\n",
      "Q1 75 percentile of the given data is,  5.5\n"
     ]
    }
   ],
   "source": [
    "Q1 = np.percentile(data, 25, interpolation = 'midpoint') \n",
    "Q2 = np.percentile(data, 50, interpolation = 'midpoint') \n",
    "Q3 = np.percentile(data, 75, interpolation = 'midpoint') \n",
    "  \n",
    "print('Q1 25 percentile of the given data is, ', Q1)\n",
    "print('Q1 50 percentile of the given data is, ', Q2)\n",
    "print('Q1 75 percentile of the given data is, ', Q3)"
   ]
  },
  {
   "cell_type": "code",
   "execution_count": 4,
   "id": "be2eab27-b62f-4d0a-94f2-fb9283beb618",
   "metadata": {},
   "outputs": [
    {
     "name": "stdout",
     "output_type": "stream",
     "text": [
      "low_limit is -2.0\n",
      "up_limit is 10.0\n"
     ]
    }
   ],
   "source": [
    "IQR = Q3-Q1\n",
    "low_lim = Q1 - 1.5 * IQR\n",
    "up_lim = Q3 + 1.5 * IQR\n",
    "print('low_limit is', low_lim)\n",
    "print('up_limit is', up_lim)"
   ]
  },
  {
   "cell_type": "code",
   "execution_count": 5,
   "id": "e4518d6b-6f67-4b96-a28a-7d210326bfff",
   "metadata": {},
   "outputs": [
    {
     "name": "stdout",
     "output_type": "stream",
     "text": [
      " outlier in the dataset is [50]\n"
     ]
    }
   ],
   "source": [
    "outlier =[]\n",
    "for x in data:\n",
    "    if ((x> up_lim) or (x<low_lim)):\n",
    "         outlier.append(x)\n",
    "print(' outlier in the dataset is', outlier)"
   ]
  },
  {
   "cell_type": "code",
   "execution_count": 6,
   "id": "e85e0087-4548-427d-9301-2adbf86f46c6",
   "metadata": {},
   "outputs": [
    {
     "data": {
      "text/plain": [
       "<AxesSubplot:>"
      ]
     },
     "execution_count": 6,
     "metadata": {},
     "output_type": "execute_result"
    },
    {
     "data": {
      "image/png": "[encoded data removed]",
      "text/plain": [
       "<Figure size 432x288 with 1 Axes>"
      ]
     },
     "metadata": {
      "needs_background": "light"
     },
     "output_type": "display_data"
    }
   ],
   "source": [
    "sns.boxplot(data)"
   ]
  },
  {
   "cell_type": "markdown",
   "id": "6d641dc3-0ebc-4c9d-b8f0-231e2f5f9793",
   "metadata": {},
   "source": [
    "## Hackerrank Problem Statement and Solution (Practice)\n",
    "[Problem Statement](https://www.hackerrank.com/challenges/s10-interquartile-range/problem?isFullScreen=true)\n",
    "\n",
    "Solution:"
   ]
  },
  {
   "cell_type": "code",
   "execution_count": null,
   "id": "05990501-7724-414b-8b96-f770f44d2ea3",
   "metadata": {},
   "outputs": [],
   "source": [
    "#!/bin/python3\n",
    "\n",
    "import math\n",
    "import os\n",
    "import random\n",
    "import re\n",
    "import sys\n",
    "import statistics as st\n",
    "#\n",
    "# Complete the 'interQuartile' function below.\n",
    "#\n",
    "# The function accepts following parameters:\n",
    "#  1. INTEGER_ARRAY values\n",
    "#  2. INTEGER_ARRAY freqs\n",
    "#\n",
    "\n",
    "def interQuartile(values, freqs):\n",
    "    # Print your answer to 1 decimal place within this function\n",
    "    s = []\n",
    "    for i in range(n):\n",
    "        s += [values[i]] * freq[i]\n",
    "    N = sum(freq)\n",
    "    s.sort()\n",
    "    if n%2 != 0:\n",
    "        q1 = st.median(s[:N//2])\n",
    "        q3 = st.median(s[N//2+1:])\n",
    "    else:\n",
    "        q1 = st.median(s[:N//2])\n",
    "        q3 = st.median(s[N//2:])\n",
    "\n",
    "    ir = round(float(q3-q1), 1)\n",
    "    print(ir)\n",
    "\n",
    "if __name__ == '__main__':\n",
    "    n = int(input().strip())\n",
    "\n",
    "    val = list(map(int, input().rstrip().split()))\n",
    "\n",
    "    freq = list(map(int, input().rstrip().split()))\n",
    "\n",
    "    interQuartile(val, freq)\n"
   ]
  }
 ],
 "metadata": {
  "kernelspec": {
   "display_name": "Python 3",
   "language": "python",
   "name": "python3"
  },
  "language_info": {
   "codemirror_mode": {
    "name": "ipython",
    "version": 3
   },
   "file_extension": ".py",
   "mimetype": "text/x-python",
   "name": "python",
   "nbconvert_exporter": "python",
   "pygments_lexer": "ipython3",
   "version": "3.6.4"
  }
 },
 "nbformat": 4,
 "nbformat_minor": 5
}
