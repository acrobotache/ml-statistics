{
 "cells": [
  {
   "cell_type": "markdown",
   "id": "b4821a99-1709-4037-a28f-3d5bf0f431b2",
   "metadata": {},
   "source": [
    "# Significance of outliers:\n",
    "\n",
    "- Outliers badly affect mean and standard deviation of the dataset. These may statistically give erroneous results.\n",
    "- Most machine learning algorithms do not work well in the presence of outlier. So it is desirable to detect and remove outliers.\n",
    "- Outliers are highly useful in anomaly detection like fraud detection where the fraud transactions are very different from normal transactions.\n",
    "\n",
    "# Outlier Detection using IQR\n",
    "An outlier is a data point in a data set that is distant from all other observations. A data point that lies outside the overall distribution of the dataset.\n",
    "\n",
    "### What are the criteria to identify an outlier?\n",
    "\n",
    "1. Data point that falls outside of 1.5 times of an interquartile range above the 3rd quartile and below the 1st quartile\n",
    "2. Data point that falls outside of 3 standard deviations. we can use a z score and if the z score falls outside of 2 standard deviation\n",
    "\n",
    "### What is the reason for an outlier to exists in a dataset?\n",
    "\n",
    "1. Variability in the data\n",
    "2. An experimental measurement error\n",
    "\n",
    "### What are the impacts of having outliers in a dataset?\n",
    "\n",
    "1. It causes various problems during our statistical analysis\n",
    "2. It may cause a significant impact on the mean and the standard deviation\n",
    "\n",
    "### Various ways of finding the outlier.\n",
    "1. Using scatter plots\n",
    "2. Box plot\n",
    "3. using z score\n",
    "4. using the IQR interquantile range\n",
    "\n"
   ]
  },
  {
   "cell_type": "code",
   "execution_count": 1,
   "id": "a57ede03-a12d-4410-a9e8-082d99b96e11",
   "metadata": {},
   "outputs": [],
   "source": [
    "import pandas as pd\n",
    "import numpy as np"
   ]
  },
  {
   "cell_type": "code",
   "execution_count": 2,
   "id": "4e70c046-8525-4af3-8f24-038be4d1b209",
   "metadata": {},
   "outputs": [],
   "source": [
    "class OutlierDetector:\n",
    "    def __init__(self, input_file, output_file):\n",
    "        self.input_file = input_file\n",
    "        self.output_file = output_file\n",
    "        \n",
    "    def read_data(self):\n",
    "        return pd.read_csv(self.input_file)\n",
    "    \n",
    "    def detect_outliers_using_iqr(self, df):\n",
    "        for i in df._get_numeric_data().columns:\n",
    "            q1 = df.describe().at['25%', i]\n",
    "            q3 = df.describe().at['75%', i]\n",
    "            # calculate interquartile range\n",
    "            iqr = q3 - q1\n",
    "            # calculate lower and upper bound using IQR\n",
    "            lower_bound = q1 - 1.5 * iqr\n",
    "            upper_bound = q3 + 1.5 * iqr\n",
    "            arr = np.array(df[i])\n",
    "            outlier_indices = []\n",
    "            for index, val in enumerate(arr):\n",
    "                if val < lower_bound or val > upper_bound:\n",
    "                    outlier_indices.append(index)\n",
    "            yield i, q1, q3, len(outlier_indices), outlier_indices\n",
    "            \n",
    "    def show_outliers_details_using_iqr(self, df):\n",
    "        column = []\n",
    "        oulier_range = []\n",
    "        outlier_count = []\n",
    "        outlier_indices = []\n",
    "        outlier_gen = self.detect_outliers_using_iqr(df)\n",
    "        for i in outlier_gen:\n",
    "            column.append(i[0]) # numerical column name\n",
    "            oulier_range.append((i[1], i[2])) # (q1, q3)\n",
    "            outlier_count.append(i[3]) # count of outliers\n",
    "            outlier_indices.append(i[4]) # outlier indices\n",
    "        combined_df = {\n",
    "            'Column': column,\n",
    "            'Outlier Range': oulier_range,\n",
    "            'Number of Outliers': outlier_count,\n",
    "            'Outlier Indices': outlier_indices}\n",
    "        combined_df = pd.DataFrame(combined_df)\n",
    "        combined_df.to_csv(self.output_file, index=False)"
   ]
  },
  {
   "cell_type": "code",
   "execution_count": 3,
   "id": "fa0b0b13-524a-4926-9f19-5cda0ad20fea",
   "metadata": {},
   "outputs": [],
   "source": [
    "outlier_detector = OutlierDetector(input_file = 'data/country_data.csv', output_file = 'output/outliers_details.csv')"
   ]
  },
  {
   "cell_type": "code",
   "execution_count": 4,
   "id": "c79b06a9-5df1-4a9e-a17d-d4ea29539583",
   "metadata": {},
   "outputs": [],
   "source": [
    "data = outlier_detector.read_data()"
   ]
  },
  {
   "cell_type": "code",
   "execution_count": 5,
   "id": "c2cf1733-c5dd-46f9-b2da-0cd68525db9a",
   "metadata": {},
   "outputs": [],
   "source": [
    "outlier_detector.show_outliers_details_using_iqr(data)"
   ]
  }
 ],
 "metadata": {
  "kernelspec": {
   "display_name": "Python 3",
   "language": "python",
   "name": "python3"
  },
  "language_info": {
   "codemirror_mode": {
    "name": "ipython",
    "version": 3
   },
   "file_extension": ".py",
   "mimetype": "text/x-python",
   "name": "python",
   "nbconvert_exporter": "python",
   "pygments_lexer": "ipython3",
   "version": "3.6.4"
  }
 },
 "nbformat": 4,
 "nbformat_minor": 5
}
